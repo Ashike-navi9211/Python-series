{
 "cells": [
  {
   "cell_type": "code",
   "execution_count": 12,
   "id": "b34fcd18",
   "metadata": {},
   "outputs": [
    {
     "name": "stdout",
     "output_type": "stream",
     "text": [
      "dimention:  2\n",
      "shape:  (3, 3)\n",
      "total elemts:  9\n",
      "item size 8\n",
      "data type int64\n",
      "toatal:  72\n"
     ]
    }
   ],
   "source": [
    "arr = np.array([[1,2,3],[4,5,6],[7,8,9]])\n",
    "print('dimention: ',arr.ndim)\n",
    "print('shape: ',arr.shape)\n",
    "print(\"total elemts: \",arr.size)\n",
    "print(\"item size\",arr.itemsize)\n",
    "print(\"data type\", arr.dtype)\n",
    "print('toatal: ',arr.nbytes)"
   ]
  },
  {
   "cell_type": "code",
   "execution_count": 13,
   "id": "85ad0aef",
   "metadata": {},
   "outputs": [
    {
     "name": "stdout",
     "output_type": "stream",
     "text": [
      "[[1. 2. 3.]\n",
      " [4. 0. 6.]\n",
      " [7. 8. 9.]]\n"
     ]
    }
   ],
   "source": [
    "arr = np.array([[1,2,3],[4,0,6],[7,8,9]])\n",
    "x = np.array(arr,dtype ='double')\n",
    "\n",
    "print(x)\n"
   ]
  },
  {
   "cell_type": "code",
   "execution_count": 14,
   "id": "1ea48f9d",
   "metadata": {},
   "outputs": [
    {
     "name": "stdout",
     "output_type": "stream",
     "text": [
      "[ 0  1  2  3  4  5  6  7  8  9 10]\n"
     ]
    }
   ],
   "source": [
    "import numpy as np\n",
    "y= np.arange(0,11,1)\n",
    "print(y)"
   ]
  },
  {
   "cell_type": "code",
   "execution_count": 15,
   "id": "d13bb684",
   "metadata": {},
   "outputs": [
    {
     "name": "stdout",
     "output_type": "stream",
     "text": [
      "[[[ 1  2  3  4]\n",
      "  [ 5  6  7  8]\n",
      "  [ 9 10 11 12]]\n",
      "\n",
      " [[13 14 15 16]\n",
      "  [17 18 19 20]\n",
      "  [21 22 23 24]]]\n"
     ]
    }
   ],
   "source": [
    "import numpy as np\n",
    "z= np.arange(1,25).reshape(2,3,4)\n",
    "print(z)"
   ]
  },
  {
   "cell_type": "code",
   "execution_count": 16,
   "id": "935c1356",
   "metadata": {},
   "outputs": [
    {
     "name": "stdout",
     "output_type": "stream",
     "text": [
      "[[[[ 1  2  3  4  5]\n",
      "   [ 6  7  8  9 10]]\n",
      "\n",
      "  [[11 12 13 14 15]\n",
      "   [16 17 18 19 20]]\n",
      "\n",
      "  [[21 22 23 24 25]\n",
      "   [26 27 28 29 30]]]\n",
      "\n",
      "\n",
      " [[[31 32 33 34 35]\n",
      "   [36 37 38 39 40]]\n",
      "\n",
      "  [[41 42 43 44 45]\n",
      "   [46 47 48 49 50]]\n",
      "\n",
      "  [[51 52 53 54 55]\n",
      "   [56 57 58 59 60]]]]\n"
     ]
    }
   ],
   "source": [
    "#creating 4d array using range  function\n",
    "import numpy as np\n",
    "z= np.arange(1,61).reshape(2,3,2,5)\n",
    "print(z)"
   ]
  },
  {
   "cell_type": "markdown",
   "id": "c1c6d1f8",
   "metadata": {},
   "source": [
    "#create 6X6 mtrx which is filled with zero except border that is filled with one\n"
   ]
  },
  {
   "cell_type": "code",
   "execution_count": 17,
   "id": "2f665395",
   "metadata": {},
   "outputs": [
    {
     "name": "stdout",
     "output_type": "stream",
     "text": [
      "[[0. 0. 0. 0. 0. 0.]\n",
      " [0. 0. 0. 0. 0. 0.]\n",
      " [0. 0. 0. 0. 0. 0.]\n",
      " [0. 0. 0. 0. 0. 0.]\n",
      " [0. 0. 0. 0. 0. 0.]\n",
      " [0. 0. 0. 0. 0. 0.]]\n",
      "\n",
      "[[1. 1. 1. 1. 1. 1.]]\n",
      "\n",
      "[[1. 1. 1. 1. 1. 1.]\n",
      " [0. 0. 0. 0. 0. 0.]\n",
      " [0. 0. 0. 0. 0. 0.]\n",
      " [0. 0. 0. 0. 0. 0.]\n",
      " [0. 0. 0. 0. 0. 0.]\n",
      " [1. 1. 1. 1. 1. 1.]]\n"
     ]
    }
   ],
   "source": [
    "import numpy  as np\n",
    "arr = np.zeros([6,6])\n",
    "print(arr)\n",
    "print()\n",
    "arr[0:1] = [1]\n",
    "arr[5:6] = [1]\n",
    "print(arr[0:1,0:6])\n",
    "print()\n",
    "print(arr)"
   ]
  },
  {
   "cell_type": "code",
   "execution_count": 18,
   "id": "e49c4a43",
   "metadata": {},
   "outputs": [],
   "source": [
    "# import matplotlib.pyplot as plt\n",
    "\n",
    "# import numpy as np\n",
    "# x= np.linspace(0,4*np.pi,1000)\n",
    "# y=np.sin(x)\n",
    "# z=range(len(y))\n",
    "# plt.plot(z,y)\n",
    "# plt.show()"
   ]
  },
  {
   "cell_type": "code",
   "execution_count": 19,
   "id": "3da7ea39",
   "metadata": {},
   "outputs": [
    {
     "name": "stdout",
     "output_type": "stream",
     "text": [
      "[1, 0, 1, 0, 1, 0, 1, 0, 1, 0, 1, 0, 1, 0, 1]\n",
      "\n"
     ]
    }
   ],
   "source": [
    "# creat an array of 15 value alternating 1,0,1,0,1\n",
    "count =0\n",
    "arr=[]\n",
    "for i in range(15):\n",
    "    if(count ==0):\n",
    "        arr.append(1)\n",
    "        count=1\n",
    "    else:\n",
    "        arr.append(0)\n",
    "        count=0\n",
    "print(arr)\n",
    "print()\n"
   ]
  },
  {
   "cell_type": "code",
   "execution_count": 20,
   "id": "3c47ad3e",
   "metadata": {},
   "outputs": [
    {
     "name": "stdout",
     "output_type": "stream",
     "text": [
      "[[ True  True  True]\n",
      " [ True  True  True]\n",
      " [ True  True  True]]\n"
     ]
    }
   ],
   "source": [
    "import numpy  as np\n",
    "arr =np.full((3,3),True)\n",
    "print(arr)\n"
   ]
  },
  {
   "cell_type": "code",
   "execution_count": 21,
   "id": "609525dd",
   "metadata": {},
   "outputs": [
    {
     "name": "stdout",
     "output_type": "stream",
     "text": [
      "[[ True  True  True]\n",
      " [ True  True  True]\n",
      " [ True  True  True]]\n"
     ]
    }
   ],
   "source": [
    "import numpy as np\n",
    "arr =np.ones([3,3],dtype=bool)\n",
    "print(arr)\n"
   ]
  },
  {
   "cell_type": "code",
   "execution_count": 22,
   "id": "9eb625fc",
   "metadata": {},
   "outputs": [
    {
     "name": "stdout",
     "output_type": "stream",
     "text": [
      "[[1 2 3]\n",
      " [4 5 6]\n",
      " [7 8 9]]\n",
      "\n",
      "[[ True  True  True]\n",
      " [ True  True  True]\n",
      " [ True  True  True]]\n"
     ]
    }
   ],
   "source": [
    "arr =np.arange(1,10).reshape(3,3)\n",
    "print(arr)\n",
    "arr=arr.astype(bool)\n",
    "print()\n",
    "print(arr)"
   ]
  },
  {
   "cell_type": "code",
   "execution_count": 23,
   "id": "025f945c",
   "metadata": {},
   "outputs": [
    {
     "name": "stdout",
     "output_type": "stream",
     "text": [
      "[[ True False False False]\n",
      " [False  True False False]\n",
      " [False False  True False]\n",
      " [False False False  True]\n",
      " [False False False False]]\n"
     ]
    }
   ],
   "source": [
    "arr =np.eye(5,4,dtype=bool)\n",
    "print(arr)\n"
   ]
  },
  {
   "cell_type": "code",
   "execution_count": 24,
   "id": "c69345ac",
   "metadata": {},
   "outputs": [
    {
     "name": "stdout",
     "output_type": "stream",
     "text": [
      "[[1 0 0 0]\n",
      " [0 1 0 0]\n",
      " [0 0 1 0]\n",
      " [0 0 0 1]]\n",
      "eye matrin\n",
      "[[0 0 0 0]\n",
      " [1 0 0 0]\n",
      " [0 1 0 0]\n",
      " [0 0 1 0]]\n"
     ]
    }
   ],
   "source": [
    "arr =np.eye(4,4,dtype=int)\n",
    "print(arr)\n",
    "arr =np.eye(4,4,-1,dtype=int)\n",
    "print(\"eye matrin\")\n",
    "print(arr)"
   ]
  },
  {
   "cell_type": "code",
   "execution_count": 25,
   "id": "93f6a76e",
   "metadata": {},
   "outputs": [
    {
     "name": "stdout",
     "output_type": "stream",
     "text": [
      "[[1. 0. 0. 0.]\n",
      " [0. 1. 0. 0.]\n",
      " [0. 0. 1. 0.]\n",
      " [0. 0. 0. 1.]]\n"
     ]
    }
   ],
   "source": [
    "arr =np.identity(4)\n",
    "print(arr)\n"
   ]
  },
  {
   "cell_type": "code",
   "execution_count": 26,
   "id": "b3ebe6c7",
   "metadata": {},
   "outputs": [
    {
     "name": "stdout",
     "output_type": "stream",
     "text": [
      "[1 2 3 4 5 6 7 8 9]\n",
      "[[1 0 0 0 0 0 0 0 0]\n",
      " [0 2 0 0 0 0 0 0 0]\n",
      " [0 0 3 0 0 0 0 0 0]\n",
      " [0 0 0 4 0 0 0 0 0]\n",
      " [0 0 0 0 5 0 0 0 0]\n",
      " [0 0 0 0 0 6 0 0 0]\n",
      " [0 0 0 0 0 0 7 0 0]\n",
      " [0 0 0 0 0 0 0 8 0]\n",
      " [0 0 0 0 0 0 0 0 9]]\n",
      "\n",
      "[[1 2 3]\n",
      " [4 5 6]\n",
      " [7 8 9]]\n",
      "\n",
      "[1 5 9]\n"
     ]
    }
   ],
   "source": [
    "arr =np.arange(1,10)\n",
    "print(arr)\n",
    "arr =np.diag(arr)\n",
    "print(arr)\n",
    "print()\n",
    "arr =np.arange(1,10).reshape(3,3)\n",
    "print(arr)\n",
    "print()\n",
    "arr =np.diag(arr)\n",
    "print(arr)\n"
   ]
  },
  {
   "cell_type": "code",
   "execution_count": 27,
   "id": "7ad100b2",
   "metadata": {},
   "outputs": [
    {
     "name": "stdout",
     "output_type": "stream",
     "text": [
      "[[11 12 13]\n",
      " [14 15 16]\n",
      " [17 18 19]]\n",
      "[14 16]\n"
     ]
    }
   ],
   "source": [
    "arr =np.arange(11,20).reshape(3,3)\n",
    "print(arr)\n",
    "x=[1,-2]\n",
    "y=[0,-1]\n",
    "print(arr[x,y])"
   ]
  },
  {
   "cell_type": "code",
   "execution_count": 28,
   "id": "b616effc",
   "metadata": {},
   "outputs": [
    {
     "name": "stdout",
     "output_type": "stream",
     "text": [
      "[[[ 1  2  3]\n",
      "  [ 4  5  6]\n",
      "  [ 7  8  9]]\n",
      "\n",
      " [[10 11 12]\n",
      "  [13 14 15]\n",
      "  [16 17 18]]\n",
      "\n",
      " [[19 20 21]\n",
      "  [22 23 24]\n",
      "  [25 26 27]]]\n",
      "\n",
      "\n",
      "[ 4 14]\n"
     ]
    }
   ],
   "source": [
    "import numpy as np\n",
    "\n",
    "arr = np.arange(1,28).reshape(3, 3, 3)   \n",
    "\n",
    "print(arr)\n",
    "\n",
    "x = [0, 1]\n",
    "y = [1, 1]\n",
    "z = [0, 1]  \n",
    "\n",
    "print(\"\\n\")\n",
    "print(arr[x, y, z])\n"
   ]
  },
  {
   "cell_type": "code",
   "execution_count": 29,
   "id": "4607d1a3",
   "metadata": {},
   "outputs": [
    {
     "ename": "SyntaxError",
     "evalue": "invalid syntax (1301272910.py, line 3)",
     "output_type": "error",
     "traceback": [
      "\u001b[1;36m  Cell \u001b[1;32mIn[29], line 3\u001b[1;36m\u001b[0m\n\u001b[1;33m    print(arr[arr>5]){:lkyhg}\u001b[0m\n\u001b[1;37m                     ^\u001b[0m\n\u001b[1;31mSyntaxError\u001b[0m\u001b[1;31m:\u001b[0m invalid syntax\n"
     ]
    }
   ],
   "source": [
    "arr= np.arange(1,10)\n",
    "print(arr)\n",
    "print(arr[arr>5]){:lkyhg}\n",
    "print(arr[arr%2==0])"
   ]
  },
  {
   "cell_type": "code",
   "execution_count": null,
   "id": "f2a37785",
   "metadata": {},
   "outputs": [
    {
     "name": "stdout",
     "output_type": "stream",
     "text": [
      "0.047082876120429495\n",
      "2-D\n",
      "[0.2099522  0.72246234 0.6928319  0.81619085 0.45191088 0.25141061\n",
      " 0.5883898  0.35978318 0.27831479 0.54120523 0.34514921 0.63464305\n",
      " 0.86654193 0.79754492 0.77654962 0.9859582  0.61821027 0.6317815\n",
      " 0.35903944 0.61822565 0.2848567  0.37949322 0.55659823 0.25545483\n",
      " 0.88572301 0.75242455 0.53632908 0.02571135 0.24866589 0.26368541\n",
      " 0.01511325 0.46815165 0.02788468 0.90276945 0.23100662]\n",
      "3-D\n",
      "[[[0.04226687 0.35986381 0.3408051  0.54562873]\n",
      "  [0.3155041  0.04886067 0.69733356 0.9213408 ]\n",
      "  [0.91518463 0.58632613 0.37331579 0.25271248]]\n",
      "\n",
      " [[0.34272309 0.58058704 0.02894802 0.12281911]\n",
      "  [0.73096888 0.17628089 0.86081859 0.8139616 ]\n",
      "  [0.52412016 0.26368075 0.49104181 0.03952129]]]\n"
     ]
    }
   ],
   "source": [
    "import numpy as np\n",
    "import random \n",
    "#1-D array with float value from 0 to 1\n",
    "a= np.random.rand()\n",
    "print(a)\n",
    "#2-D array with float value from 0 to 1\n",
    "print(\"2-D\")\n",
    "b= np.random.rand(35)\n",
    "print(b)\n",
    "print(\"3-D\")\n",
    "#3-D array with float value from 0 to 1\n",
    "c= np.random.rand(2,3,4)\n",
    "print(c)\n"
   ]
  },
  {
   "cell_type": "code",
   "execution_count": null,
   "id": "3dcd40d4",
   "metadata": {},
   "outputs": [
    {
     "name": "stdout",
     "output_type": "stream",
     "text": [
      "18.241097657652183\n"
     ]
    }
   ],
   "source": [
    "print(np.random.uniform(10,20))"
   ]
  },
  {
   "cell_type": "code",
   "execution_count": 8,
   "id": "b465b104",
   "metadata": {},
   "outputs": [
    {
     "name": "stdout",
     "output_type": "stream",
     "text": [
      "[14.707192   16.17609844 17.08064538 15.75747053 15.08161766 19.25831985\n",
      " 10.07267144 18.88286892 13.14893657 12.33544365]\n"
     ]
    }
   ],
   "source": [
    "print(np.random.uniform(10,20,size=10))"
   ]
  },
  {
   "cell_type": "code",
   "execution_count": 10,
   "id": "230c0c79",
   "metadata": {},
   "outputs": [
    {
     "name": "stdout",
     "output_type": "stream",
     "text": [
      "[[17.02710369 11.78101413 19.47207441 13.80928965 18.10151349]\n",
      " [18.78293672 16.70361504 15.9968523  18.93646456 15.90814845]\n",
      " [10.57906336 11.21911981 13.5649919  10.41740471 11.85177895]]\n"
     ]
    }
   ],
   "source": [
    "print(np.random.uniform(10,20,size =(3,5)))"
   ]
  },
  {
   "cell_type": "code",
   "execution_count": 11,
   "id": "e06471de",
   "metadata": {},
   "outputs": [
    {
     "name": "stdout",
     "output_type": "stream",
     "text": [
      "[[[12.77844231 18.6816465  10.93091867 14.26125829]\n",
      "  [15.3776439  19.03822417 11.57090477 10.76146481]\n",
      "  [19.30003389 19.05336893 12.5544026  16.89916277]]\n",
      "\n",
      " [[13.29429464 17.68680869 18.06213751 17.59838759]\n",
      "  [12.55859862 14.68756108 14.22315626 17.00781543]\n",
      "  [11.51926099 19.1992661  18.44760936 15.66045174]]]\n"
     ]
    }
   ],
   "source": [
    "print(np.random.uniform(10,20,size= (2,3,4)))"
   ]
  },
  {
   "cell_type": "code",
   "execution_count": null,
   "id": "3c54f6ee",
   "metadata": {},
   "outputs": [],
   "source": [
    "# pANDAS"
   ]
  },
  {
   "cell_type": "code",
   "execution_count": 32,
   "id": "55fbc34b",
   "metadata": {},
   "outputs": [
    {
     "name": "stdout",
     "output_type": "stream",
     "text": [
      "13    20\n",
      "dtype: int64\n"
     ]
    }
   ],
   "source": [
    "import pandas as pd\n",
    "s = pd.Series([20], index=[13], dtype=int)\n",
    "print(s)\n"
   ]
  },
  {
   "cell_type": "code",
   "execution_count": 33,
   "id": "921f8647",
   "metadata": {},
   "outputs": [
    {
     "name": "stdout",
     "output_type": "stream",
     "text": [
      "0    10\n",
      "1    20\n",
      "2    30\n",
      "3    40\n",
      "dtype: int64\n"
     ]
    }
   ],
   "source": [
    "s1= pd.Series([10,20,30,40])\n",
    "print(s1)"
   ]
  },
  {
   "cell_type": "code",
   "execution_count": 47,
   "id": "4b396413",
   "metadata": {},
   "outputs": [
    {
     "name": "stdout",
     "output_type": "stream",
     "text": [
      "a    1\n",
      "b    2\n",
      "c    3\n",
      "d    4\n",
      "dtype: int64\n",
      "Index(['a', 'b', 'c', 'd'], dtype='object')\n",
      "[1 2 3 4]\n",
      "int64\n"
     ]
    }
   ],
   "source": [
    "s2 = pd.Series([1,2,3,4],['a','b','c','d'])\n",
    "print(s2)\n",
    "print(s2.index)\n",
    "print(s2.values)\n",
    "print(s1.dtype)"
   ]
  },
  {
   "cell_type": "code",
   "execution_count": 48,
   "id": "16b80eab",
   "metadata": {},
   "outputs": [
    {
     "name": "stdout",
     "output_type": "stream",
     "text": [
      "(0, 1, 2, 3, 4, 5, 6, 7, 8, 9, 10, 11, 12, 13, 14, 15, 16, 17, 18, 19)    (0, 1, 2, 3, 4, 5, 6, 7, 8, 9, 10, 11, 12, 13,...\n",
      "dtype: object\n"
     ]
    }
   ],
   "source": [
    "# generat a series print consttant value\n",
    "s3 = pd.Series(data=[range(0,20)],index=[range(0,20)])\n",
    "print(s3)"
   ]
  },
  {
   "cell_type": "code",
   "execution_count": 56,
   "id": "851877e1",
   "metadata": {},
   "outputs": [
    {
     "name": "stdout",
     "output_type": "stream",
     "text": [
      "0     6\n",
      "1     6\n",
      "2     6\n",
      "3     6\n",
      "4     6\n",
      "5     6\n",
      "6     6\n",
      "7     6\n",
      "8     6\n",
      "9     6\n",
      "10    6\n",
      "11    6\n",
      "12    6\n",
      "13    6\n",
      "14    6\n",
      "15    6\n",
      "16    6\n",
      "17    6\n",
      "18    6\n",
      "19    6\n",
      "dtype: int64\n"
     ]
    }
   ],
   "source": [
    "# generate a series with constant value 0 for indices 0 to 19\n",
    "s3 = pd.Series(data=[np.random.randint(1,10)]* 20, index=range(0,20))\n",
    "print(s3)"
   ]
  },
  {
   "cell_type": "code",
   "execution_count": null,
   "id": "2b7d020c",
   "metadata": {},
   "outputs": [
    {
     "name": "stdout",
     "output_type": "stream",
     "text": [
      "A    20\n",
      "B    18\n",
      "C    14\n",
      "D    29\n",
      "E    26\n",
      "F    14\n",
      "dtype: int32\n"
     ]
    }
   ],
   "source": [
    "y = [chr(i) for i in range(65,71)]   \n",
    "x = np.random.randint(10,31, size=6)  \n",
    "s5 = pd.Series(x, index=y)\n",
    "print(s5)\n"
   ]
  },
  {
   "cell_type": "code",
   "execution_count": 69,
   "id": "d5eb627a",
   "metadata": {},
   "outputs": [
    {
     "name": "stdout",
     "output_type": "stream",
     "text": [
      "20\n",
      "\n",
      "A    20\n",
      "B    18\n",
      "C    14\n",
      "dtype: int32\n",
      "A    20\n",
      "F    14\n",
      "D    29\n",
      "dtype: int32\n",
      "________________________________________________________________________________________________________________________________\n",
      "20\n",
      "\n",
      "A    20\n",
      "B    18\n",
      "C    14\n",
      "D    29\n",
      "dtype: int32\n",
      "\n",
      "A    20\n",
      "F    14\n",
      "D    29\n",
      "dtype: int32\n"
     ]
    },
    {
     "name": "stderr",
     "output_type": "stream",
     "text": [
      "C:\\Users\\navia\\AppData\\Local\\Temp\\ipykernel_28892\\1114319807.py:3: FutureWarning: Series.__getitem__ treating keys as positions is deprecated. In a future version, integer keys will always be treated as labels (consistent with DataFrame behavior). To access a value by position, use `ser.iloc[pos]`\n",
      "  print(s5[0])\n",
      "C:\\Users\\navia\\AppData\\Local\\Temp\\ipykernel_28892\\1114319807.py:8: FutureWarning: Series.__getitem__ treating keys as positions is deprecated. In a future version, integer keys will always be treated as labels (consistent with DataFrame behavior). To access a value by position, use `ser.iloc[pos]`\n",
      "  print(s5[[0,5,3]])\n"
     ]
    }
   ],
   "source": [
    "# slicing and indexing in a series\n",
    "\n",
    "print(s5[0])\n",
    "print()\n",
    "print(s5[:3])       \n",
    "\n",
    "\n",
    "print(s5[[0,5,3]])\n",
    "print(\"________________________________________________________________________________________________________________________________\")\n",
    "print(s5.iloc[0])\n",
    "print()\n",
    "print(s5.iloc[0:4])\n",
    "print()\n",
    "print(s5.iloc[[0,5,3]])\n"
   ]
  },
  {
   "cell_type": "code",
   "execution_count": null,
   "id": "58fe8f55",
   "metadata": {},
   "outputs": [
    {
     "name": "stdout",
     "output_type": "stream",
     "text": [
      "A    20\n",
      "B    18\n",
      "C    14\n",
      "E    26\n",
      "F    14\n",
      "dtype: int32\n"
     ]
    }
   ],
   "source": [
    "# fin the even elements in the series\n",
    "\n",
    "\n",
    "print(s5[s5%2==0])\n"
   ]
  },
  {
   "cell_type": "code",
   "execution_count": 72,
   "id": "79feaf93",
   "metadata": {},
   "outputs": [
    {
     "name": "stdout",
     "output_type": "stream",
     "text": [
      "A    30\n",
      "B    28\n",
      "C    24\n",
      "D    39\n",
      "E    36\n",
      "F    24\n",
      "dtype: int32\n",
      "A    40\n",
      "B    36\n",
      "C    28\n",
      "D    58\n",
      "E    52\n",
      "F    28\n",
      "dtype: int32\n"
     ]
    }
   ],
   "source": [
    "print(s5+10)\n",
    "print(s5*2)"
   ]
  },
  {
   "cell_type": "code",
   "execution_count": 74,
   "id": "8806ea70",
   "metadata": {},
   "outputs": [
    {
     "name": "stdout",
     "output_type": "stream",
     "text": [
      "count     6.000000\n",
      "mean     20.166667\n",
      "std       6.210207\n",
      "min      14.000000\n",
      "25%      15.000000\n",
      "50%      19.000000\n",
      "75%      24.500000\n",
      "max      29.000000\n",
      "dtype: float64\n",
      "20.166666666666668\n",
      "6.210206652492868\n",
      "121\n",
      "14\n",
      "29\n"
     ]
    },
    {
     "ename": "AttributeError",
     "evalue": "'Series' object has no attribute 'tails'",
     "output_type": "error",
     "traceback": [
      "\u001b[1;31m---------------------------------------------------------------------------\u001b[0m",
      "\u001b[1;31mAttributeError\u001b[0m                            Traceback (most recent call last)",
      "\u001b[1;32m~\\AppData\\Local\\Temp\\ipykernel_28892\\2919905971.py\u001b[0m in \u001b[0;36m?\u001b[1;34m()\u001b[0m\n\u001b[0;32m      3\u001b[0m \u001b[0mprint\u001b[0m\u001b[1;33m(\u001b[0m\u001b[0ms5\u001b[0m\u001b[1;33m.\u001b[0m\u001b[0mstd\u001b[0m\u001b[1;33m(\u001b[0m\u001b[1;33m)\u001b[0m\u001b[1;33m)\u001b[0m\u001b[1;33m\u001b[0m\u001b[1;33m\u001b[0m\u001b[0m\n\u001b[0;32m      4\u001b[0m \u001b[0mprint\u001b[0m\u001b[1;33m(\u001b[0m\u001b[0ms5\u001b[0m\u001b[1;33m.\u001b[0m\u001b[0msum\u001b[0m\u001b[1;33m(\u001b[0m\u001b[1;33m)\u001b[0m\u001b[1;33m)\u001b[0m\u001b[1;33m\u001b[0m\u001b[1;33m\u001b[0m\u001b[0m\n\u001b[0;32m      5\u001b[0m \u001b[0mprint\u001b[0m\u001b[1;33m(\u001b[0m\u001b[0ms5\u001b[0m\u001b[1;33m.\u001b[0m\u001b[0mmin\u001b[0m\u001b[1;33m(\u001b[0m\u001b[1;33m)\u001b[0m\u001b[1;33m)\u001b[0m\u001b[1;33m\u001b[0m\u001b[1;33m\u001b[0m\u001b[0m\n\u001b[0;32m      6\u001b[0m \u001b[0mprint\u001b[0m\u001b[1;33m(\u001b[0m\u001b[0ms5\u001b[0m\u001b[1;33m.\u001b[0m\u001b[0mmax\u001b[0m\u001b[1;33m(\u001b[0m\u001b[1;33m)\u001b[0m\u001b[1;33m)\u001b[0m\u001b[1;33m\u001b[0m\u001b[1;33m\u001b[0m\u001b[0m\n\u001b[1;32m----> 7\u001b[1;33m \u001b[0mprint\u001b[0m\u001b[1;33m(\u001b[0m\u001b[0ms5\u001b[0m\u001b[1;33m.\u001b[0m\u001b[0mtails\u001b[0m\u001b[1;33m(\u001b[0m\u001b[1;33m)\u001b[0m\u001b[1;33m)\u001b[0m\u001b[1;33m\u001b[0m\u001b[1;33m\u001b[0m\u001b[0m\n\u001b[0m\u001b[0;32m      8\u001b[0m \u001b[0mprint\u001b[0m\u001b[1;33m(\u001b[0m\u001b[0ms5\u001b[0m\u001b[1;33m.\u001b[0m\u001b[0mhead\u001b[0m\u001b[1;33m(\u001b[0m\u001b[1;33m)\u001b[0m\u001b[1;33m)\u001b[0m\u001b[1;33m\u001b[0m\u001b[1;33m\u001b[0m\u001b[0m\n",
      "\u001b[1;32mc:\\Users\\navia\\AppData\\Local\\Programs\\Python\\Python313\\Lib\\site-packages\\pandas\\core\\generic.py\u001b[0m in \u001b[0;36m?\u001b[1;34m(self, name)\u001b[0m\n\u001b[0;32m   6295\u001b[0m             \u001b[1;32mand\u001b[0m \u001b[0mname\u001b[0m \u001b[1;32mnot\u001b[0m \u001b[1;32min\u001b[0m \u001b[0mself\u001b[0m\u001b[1;33m.\u001b[0m\u001b[0m_accessors\u001b[0m\u001b[1;33m\u001b[0m\u001b[1;33m\u001b[0m\u001b[0m\n\u001b[0;32m   6296\u001b[0m             \u001b[1;32mand\u001b[0m \u001b[0mself\u001b[0m\u001b[1;33m.\u001b[0m\u001b[0m_info_axis\u001b[0m\u001b[1;33m.\u001b[0m\u001b[0m_can_hold_identifiers_and_holds_name\u001b[0m\u001b[1;33m(\u001b[0m\u001b[0mname\u001b[0m\u001b[1;33m)\u001b[0m\u001b[1;33m\u001b[0m\u001b[1;33m\u001b[0m\u001b[0m\n\u001b[0;32m   6297\u001b[0m         \u001b[1;33m)\u001b[0m\u001b[1;33m:\u001b[0m\u001b[1;33m\u001b[0m\u001b[1;33m\u001b[0m\u001b[0m\n\u001b[0;32m   6298\u001b[0m             \u001b[1;32mreturn\u001b[0m \u001b[0mself\u001b[0m\u001b[1;33m[\u001b[0m\u001b[0mname\u001b[0m\u001b[1;33m]\u001b[0m\u001b[1;33m\u001b[0m\u001b[1;33m\u001b[0m\u001b[0m\n\u001b[1;32m-> 6299\u001b[1;33m         \u001b[1;32mreturn\u001b[0m \u001b[0mobject\u001b[0m\u001b[1;33m.\u001b[0m\u001b[0m__getattribute__\u001b[0m\u001b[1;33m(\u001b[0m\u001b[0mself\u001b[0m\u001b[1;33m,\u001b[0m \u001b[0mname\u001b[0m\u001b[1;33m)\u001b[0m\u001b[1;33m\u001b[0m\u001b[1;33m\u001b[0m\u001b[0m\n\u001b[0m",
      "\u001b[1;31mAttributeError\u001b[0m: 'Series' object has no attribute 'tails'"
     ]
    }
   ],
   "source": [
    "print(s5.describe())\n",
    "print(s5.mean())\n",
    "print(s5.std())\n",
    "print(s5.sum())\n",
    "print(s5.min())\n",
    "print(s5.max())\n",
    "print(s5.tails())\n",
    "print(s5.head())\n"
   ]
  }
 ],
 "metadata": {
  "kernelspec": {
   "display_name": "Python 3",
   "language": "python",
   "name": "python3"
  },
  "language_info": {
   "codemirror_mode": {
    "name": "ipython",
    "version": 3
   },
   "file_extension": ".py",
   "mimetype": "text/x-python",
   "name": "python",
   "nbconvert_exporter": "python",
   "pygments_lexer": "ipython3",
   "version": "3.13.1"
  }
 },
 "nbformat": 4,
 "nbformat_minor": 5
}
